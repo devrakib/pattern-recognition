{
  "nbformat": 4,
  "nbformat_minor": 0,
  "metadata": {
    "colab": {
      "name": "KNN.ipynb",
      "provenance": [],
      "collapsed_sections": [],
      "authorship_tag": "ABX9TyO5UXS2KsRJvnfh6Pg+mS7p",
      "include_colab_link": true
    },
    "kernelspec": {
      "name": "python3",
      "display_name": "Python 3"
    }
  },
  "cells": [
    {
      "cell_type": "markdown",
      "metadata": {
        "id": "view-in-github",
        "colab_type": "text"
      },
      "source": [
        "<a href=\"https://colab.research.google.com/github/irakibul7/pattern-recognition/blob/master/KNN.ipynb\" target=\"_parent\"><img src=\"https://colab.research.google.com/assets/colab-badge.svg\" alt=\"Open In Colab\"/></a>"
      ]
    },
    {
      "cell_type": "code",
      "metadata": {
        "id": "bvJUVPaJ3CPn",
        "colab_type": "code",
        "colab": {}
      },
      "source": [
        "import pandas as pd\n",
        "import numpy as np\n",
        "import matplotlib.pyplot as plt\n",
        "import seaborn as sns\n",
        "sns.set()"
      ],
      "execution_count": 0,
      "outputs": []
    },
    {
      "cell_type": "code",
      "metadata": {
        "id": "evZ5azOd3Ks-",
        "colab_type": "code",
        "outputId": "30dcc461-7409-40a3-ba00-f3416a257f25",
        "colab": {
          "base_uri": "https://localhost:8080/",
          "height": 268
        }
      },
      "source": [
        "from random import randint\n",
        "# datasets\n",
        "x = []\n",
        "y = []\n",
        "# Take 20 coordinate randomly\n",
        "# Upper coordinate\n",
        "for i in range(10):\n",
        "  x.append(randint(-100, 100))\n",
        "  y.append(randint(0, 100))\n",
        "# Lower coordinate\n",
        "for i in range(10):\n",
        "  x.append(randint(-100, 100))\n",
        "  y.append(randint(-100, 0))\n",
        "\n",
        "for i in range(len(x)):\n",
        "  if y[i] >=0:\n",
        "    plt.scatter(x[i], y[i], color=\"black\", marker=\"o\")\n",
        "  if y[i] < 0:\n",
        "    plt.scatter(x[i], y[i], color=\"blue\", marker=\"X\")\n"
      ],
      "execution_count": 0,
      "outputs": [
        {
          "output_type": "display_data",
          "data": {
            "image/png": "[encoded data removed]",
            "text/plain": [
              "<Figure size 432x288 with 1 Axes>"
            ]
          },
          "metadata": {
            "tags": []
          }
        }
      ]
    },
    {
      "cell_type": "code",
      "metadata": {
        "id": "GEiQM5Sg3x8D",
        "colab_type": "code",
        "outputId": "21047b29-2ebe-4a6e-99fb-1aef670fedf3",
        "colab": {
          "base_uri": "https://localhost:8080/",
          "height": 305
        }
      },
      "source": [
        "# Now calculate the distance of each point from center(0,0)\n",
        "\n",
        "# coordinate of center point\n",
        "cx = 0\n",
        "cy = 0\n",
        "\n",
        "dist = [] # Store the distance of each point from center\n",
        "clust = [] # Store 1 for upper coordinate and 2 for lower coordinate\n",
        "for i in range(len(x)):\n",
        "  if y[i] >=0: \n",
        "    d= ( (( cx - x[i]) ** 2) + (( cy - y[i]) ** 2) )\n",
        "    dist.append(d)\n",
        "    clust.append(1)\n",
        "    plt.scatter(x[i], y[i], color=\"black\", marker=\"o\")\n",
        "  if y[i] < 0:\n",
        "    d= ( (( cx - x[i]) ** 2) + (( cy - y[i]) ** 2) )\n",
        "    dist.append(d)\n",
        "    clust.append(2)\n",
        "    plt.scatter(x[i], y[i], color=\"blue\", marker=\"X\")\n",
        "\n",
        "print(dist)\n",
        "print(clust)"
      ],
      "execution_count": 0,
      "outputs": [
        {
          "output_type": "stream",
          "text": [
            "[2381, 16594, 8005, 3050, 7373, 4553, 9133, 4273, 7065, 18058, 3370, 12365, 9125, 6217, 5949, 1810, 820, 5057, 7650, 4409]\n",
            "[1, 1, 1, 1, 1, 1, 1, 1, 1, 1, 2, 2, 2, 2, 2, 2, 2, 2, 2, 2]\n"
          ],
          "name": "stdout"
        },
        {
          "output_type": "display_data",
          "data": {
            "image/png": "[encoded data removed]",
            "text/plain": [
              "<Figure size 432x288 with 1 Axes>"
            ]
          },
          "metadata": {
            "tags": []
          }
        }
      ]
    },
    {
      "cell_type": "code",
      "metadata": {
        "id": "ygNoItFB4EqS",
        "colab_type": "code",
        "colab": {}
      },
      "source": [
        ""
      ],
      "execution_count": 0,
      "outputs": []
    },
    {
      "cell_type": "code",
      "metadata": {
        "id": "nAbtQRKy6HdN",
        "colab_type": "code",
        "outputId": "90e62c2f-5c89-4a24-83a2-38fffa206d04",
        "colab": {
          "base_uri": "https://localhost:8080/",
          "height": 92
        }
      },
      "source": [
        "def minimum(list_a):\n",
        "  minimum_element = list_a[0]\n",
        "  for i in range(len(list_a)):\n",
        "    if list_a[i] < minimum_element:\n",
        "      minimum_element = list_a[i]\n",
        "      index = i\n",
        "  \n",
        "  print(\"Minimum element\", minimum_element)\n",
        "  print(\"Index: \", index)\n",
        "      \n",
        "def maximum(list_a):\n",
        "  maximum_element = list_a[0]\n",
        "  for i in range(len(list_a)):\n",
        "    if list_a[i] > maximum_element:\n",
        "      maximum_element = list_a[i]\n",
        "      index = i\n",
        "      \n",
        "  print(\"Maximum element\", maximum_element)\n",
        "  print(\"Index: \", index)\n",
        "      \n",
        "minimum(dist)\n",
        "maximum(dist)\n"
      ],
      "execution_count": 0,
      "outputs": [
        {
          "output_type": "stream",
          "text": [
            "Minimum element 820\n",
            "Index:  16\n",
            "Maximum element 18058\n",
            "Index:  9\n"
          ],
          "name": "stdout"
        }
      ]
    },
    {
      "cell_type": "code",
      "metadata": {
        "id": "oAb5E75OO79I",
        "colab_type": "code",
        "outputId": "00ea52cf-846b-4220-8822-814e152c0d06",
        "colab": {
          "base_uri": "https://localhost:8080/",
          "height": 54
        }
      },
      "source": [
        "black = 0\n",
        "blue = 0\n",
        "k = 7\n",
        "\n",
        "maximum_element = dist[0]\n",
        "for i in range(len(dist)):\n",
        "  if dist[i] > maximum_element:\n",
        "    maximum_element = dist[i]\n",
        "\n",
        "minimum_element = dist[0]\n",
        "for i in range(len(dist)):\n",
        "  if dist[i] < minimum_element:\n",
        "    minimum_element = dist[i]\n",
        "\n",
        "for i in range(k):\n",
        "  min_value = dist[0]\n",
        "  if dist[i] < min_value:\n",
        "    min_value = dist[i]\n",
        "    if clust[i] == 1:\n",
        "      black += 1\n",
        "    if clust[i] == 2:\n",
        "      blue += 1\n",
        "  dist[i] = maximum_element\n",
        "\n",
        "print(\"Number of black: \", black)\n",
        "print(\"Number of blue: \", blue)"
      ],
      "execution_count": 0,
      "outputs": [
        {
          "output_type": "stream",
          "text": [
            "Number of black:  6\n",
            "Number of blue:  0\n"
          ],
          "name": "stdout"
        }
      ]
    },
    {
      "cell_type": "code",
      "metadata": {
        "id": "-P4VaYMbSGXk",
        "colab_type": "code",
        "colab": {}
      },
      "source": [
        ""
      ],
      "execution_count": 0,
      "outputs": []
    }
  ]
}