{
  "nbformat": 4,
  "nbformat_minor": 0,
  "metadata": {
    "colab": {
      "name": "SINGLE VARIABLE LINEAR REGRESSION.ipynb",
      "provenance": [],
      "collapsed_sections": [],
      "include_colab_link": true
    },
    "kernelspec": {
      "name": "python3",
      "display_name": "Python 3"
    }
  },
  "cells": [
    {
      "cell_type": "markdown",
      "metadata": {
        "id": "view-in-github",
        "colab_type": "text"
      },
      "source": [
        "<a href=\"https://colab.research.google.com/github/devrakib/pattern-recognition/blob/master/SINGLE_VARIABLE_LINEAR_REGRESSION.ipynb\" target=\"_parent\"><img src=\"https://colab.research.google.com/assets/colab-badge.svg\" alt=\"Open In Colab\"/></a>"
      ]
    },
    {
      "cell_type": "code",
      "metadata": {
        "id": "L4GUTgSWXqQN",
        "colab_type": "code",
        "outputId": "34e3b7eb-711a-423f-bdff-a97c206542e2",
        "colab": {
          "base_uri": "https://localhost:8080/",
          "height": 90
        }
      },
      "source": [
        "list1 = [22,34,76,54,56,78]\n",
        "print(list1)\n",
        "print(len(list1))\n",
        "list1.append(11)\n",
        "print(list1)\n",
        "print(len(list1))"
      ],
      "execution_count": 9,
      "outputs": [
        {
          "output_type": "stream",
          "text": [
            "[22, 34, 76, 54, 56, 78]\n",
            "6\n",
            "[22, 34, 76, 54, 56, 78, 11]\n",
            "7\n"
          ],
          "name": "stdout"
        }
      ]
    },
    {
      "cell_type": "markdown",
      "metadata": {
        "id": "t16AMIbteyqI",
        "colab_type": "text"
      },
      "source": [
        "## Dataset\n",
        "\n",
        "  x   y\n",
        "\n",
        "  0   4\n",
        "\n",
        "  1   7\n",
        "\n",
        "  2   7\n",
        "\n",
        "  3   8\n",
        "\n",
        "### Step-1: parameter initialization\n",
        "\n",
        "   y = mx + c\n",
        "\n",
        "   h(theta)(x) = theta(0) + theta(1).x\n",
        "\n",
        "   theta(0) = 2\n",
        "   \n",
        "   theta(1) = 2"
      ]
    },
    {
      "cell_type": "markdown",
      "metadata": {
        "id": "vva4-y6whCLl",
        "colab_type": "text"
      },
      "source": [
        "### Step-2: Hypothesis Function\n",
        "\n",
        "h(theta)(x) = theta(0) + theta(1).x\n",
        "\n",
        "h(theta)(1) = 2 + 2*0 = 2\n",
        "\n",
        "h(theta)(2) = 2 + 2*1 = 4\n",
        "\n",
        "h(theta)(3) = 2 + 2*2 = 6\n",
        "\n",
        "h(theta)(4) = 2 + 2*3 = 8"
      ]
    },
    {
      "cell_type": "markdown",
      "metadata": {
        "id": "s13wWR2ijued",
        "colab_type": "text"
      },
      "source": [
        "### Step-3: Cost Function\n",
        "\n",
        "j(theta) = 1/2m * sum_of( h(theta)(x) - y(i) ) ** 2"
      ]
    },
    {
      "cell_type": "markdown",
      "metadata": {
        "id": "EU2WGjIuohFo",
        "colab_type": "text"
      },
      "source": [
        "### Step-4: Gradient Descent\n",
        "\n",
        "theta(0) = theta(0) - alpha/m * sum_of( h(theta)(x) - y(i) )\n",
        "\n",
        "theta(1) = theta(0) - alpha/m * sum_of( h(theta)(x) - y(i) ) * x(i)"
      ]
    },
    {
      "cell_type": "code",
      "metadata": {
        "id": "4qszc38Zc__J",
        "colab_type": "code",
        "colab": {}
      },
      "source": [
        "# dataset\n",
        "x = [0,1,2,3]\n",
        "y = [4,7,7,8]\n",
        "\n",
        "# parameter initialization\n",
        "theta = [2,2]\n"
      ],
      "execution_count": 0,
      "outputs": []
    },
    {
      "cell_type": "code",
      "metadata": {
        "id": "KRW3X5gGhV52",
        "colab_type": "code",
        "outputId": "3c93d9c2-1547-4c0d-86b8-ee2f788a9086",
        "colab": {
          "base_uri": "https://localhost:8080/",
          "height": 35
        }
      },
      "source": [
        "# Hypothesis function\n",
        "h = []\n",
        "for i in range(len(x)):\n",
        "  a = theta[0] + theta[1] * x[i]\n",
        "  h.append(a)\n",
        "\n",
        "print(\"Hypothesis function value is:\", h)"
      ],
      "execution_count": 11,
      "outputs": [
        {
          "output_type": "stream",
          "text": [
            "Hypothesis function value is: [2, 4, 6, 8]\n"
          ],
          "name": "stdout"
        }
      ]
    },
    {
      "cell_type": "code",
      "metadata": {
        "id": "ymBvnZ_6iM2p",
        "colab_type": "code",
        "outputId": "1d1b1a46-e511-4020-8b44-dc35c053a497",
        "colab": {
          "base_uri": "https://localhost:8080/",
          "height": 35
        }
      },
      "source": [
        "# cost function\n",
        "\n",
        "error_sum = 0\n",
        "m = len(x)\n",
        "for i in range(m):\n",
        "  error_sum = error_sum + ( h[i] - y[i] ) ** 2\n",
        "  \n",
        "j = ( 1/(2*m) ) * error_sum\n",
        "\n",
        "print(\"Cost function value is: \", j)"
      ],
      "execution_count": 12,
      "outputs": [
        {
          "output_type": "stream",
          "text": [
            "Cost function value is:  1.75\n"
          ],
          "name": "stdout"
        }
      ]
    },
    {
      "cell_type": "code",
      "metadata": {
        "id": "Tf6SpL4kk2Up",
        "colab_type": "code",
        "outputId": "12435a28-fe2d-41f1-cffa-d3a4ecaf937b",
        "colab": {
          "base_uri": "https://localhost:8080/",
          "height": 35
        }
      },
      "source": [
        "# Gradient Descent\n",
        "\n",
        "temp0 = 0\n",
        "temp1 = 0\n",
        "m = len(x)\n",
        "\n",
        "for i in range(m):\n",
        "  temp0 = temp0 + ( h[i] - y[i] ) \n",
        "  temp1 = temp1 + ( h[i] - y[i] ) * x[i]\n",
        "\n",
        "theta[0] = theta[0] - (0.01/m) * temp0\n",
        "theta[1] = theta[1] - (0.01/m) * temp1\n",
        "\n",
        "print(\"New value for theta(0) is: \", theta )\n"
      ],
      "execution_count": 13,
      "outputs": [
        {
          "output_type": "stream",
          "text": [
            "New value for theta(0) is:  [2.015, 2.0125]\n"
          ],
          "name": "stdout"
        }
      ]
    },
    {
      "cell_type": "code",
      "metadata": {
        "id": "4y03bLQaptM6",
        "colab_type": "code",
        "outputId": "905dd01b-70eb-479b-87ef-f407a8c4a10c",
        "colab": {
          "base_uri": "https://localhost:8080/",
          "height": 752
        }
      },
      "source": [
        "counter = 0\n",
        "for i in range(10) :\n",
        "  print(\"Iteration number is : \", counter+1)\n",
        "  # Hypothesis function\n",
        "  h = []\n",
        "  for i in range(len(x)):\n",
        "    a = theta[0] + theta[1] * x[i]\n",
        "    h.append(a)\n",
        "\n",
        "  print(\"Hypothesis function value is:\", h)\n",
        "\n",
        "  # cost function\n",
        "\n",
        "  error_sum = 0\n",
        "  m = len(x)\n",
        "  for i in range(m):\n",
        "    error_sum = error_sum + ( h[i] - y[i] ) ** 2\n",
        "    \n",
        "  j = ( 1/(2*m) ) * error_sum\n",
        "\n",
        "  print(\"Cost function value is: \", j)\n",
        "\n",
        "  # Gradient Descent\n",
        "\n",
        "  temp0 = 0\n",
        "  temp1 = 0\n",
        "  m = len(x)\n",
        "\n",
        "  for i in range(m):\n",
        "    temp0 = temp0 + ( h[i] - y[i] ) \n",
        "    temp1 = temp1 + ( h[i] - y[i] ) * x[i]\n",
        "\n",
        "  theta[0] = theta[0] - (0.01/m) * temp0\n",
        "  theta[1] = theta[1] - (0.01/m) * temp1\n",
        "\n",
        "  print(\"New value for theta(0) is: \", theta )\n",
        "\n",
        "  counter = counter + 1\n"
      ],
      "execution_count": 14,
      "outputs": [
        {
          "output_type": "stream",
          "text": [
            "Iteration number is :  1\n",
            "Hypothesis function value is: [2.015, 4.0275, 6.040000000000001, 8.0525]\n",
            "Cost function value is:  1.7125421875\n",
            "New value for theta(0) is:  [2.0296625, 2.0243375]\n",
            "Iteration number is :  2\n",
            "Hypothesis function value is: [2.0296625, 4.054, 6.0783375, 8.102675000000001]\n",
            "Cost function value is:  1.6776437229296872\n",
            "New value for theta(0) is:  [2.0440008125, 2.03554075]\n",
            "Iteration number is :  3\n",
            "Hypothesis function value is: [2.0440008125, 4.0795415625, 6.1150823125, 8.1506230625]\n",
            "Cost function value is:  1.6450971159091032\n",
            "New value for theta(0) is:  [2.058027693125, 2.0461368115625]\n",
            "Iteration number is :  4\n",
            "Hypothesis function value is: [2.058027693125, 4.1041645046875, 6.15030131625, 8.1964381278125]\n",
            "Cost function value is:  1.6147119309757705\n",
            "New value for theta(0) is:  [2.0717553640203126, 2.0561516077609374]\n",
            "Iteration number is :  5\n",
            "Hypothesis function value is: [2.0717553640203126, 4.12790697178125, 6.184058579542187, 8.240210187303125]\n",
            "Cost function value is:  1.5863133843287627\n",
            "New value for theta(0) is:  [2.0851955362636954, 2.065609971029]\n",
            "Iteration number is :  6\n",
            "Hypothesis function value is: [2.0851955362636954, 4.150805507292695, 6.216415478321696, 8.282025449350696]\n",
            "Cost function value is:  1.559741056039174\n",
            "New value for theta(0) is:  [2.0983594313356235, 2.07453568899903]\n",
            "Iteration number is :  7\n",
            "Hypothesis function value is: [2.0983594313356235, 4.172895120334653, 6.247430809333683, 8.321966498332714]\n",
            "Cost function value is:  1.5348477082258218\n",
            "New value for theta(0) is:  [2.111257801687282, 2.0829515484140293]\n",
            "Iteration number is :  8\n",
            "Hypothesis function value is: [2.111257801687282, 4.194209350101311, 6.277160898515341, 8.36011244692937]\n",
            "Cost function value is:  1.511498200476834\n",
            "New value for theta(0) is:  [2.123900950444199, 2.090879377194229]\n",
            "Iteration number is :  9\n",
            "Hypothesis function value is: [2.123900950444199, 4.214780327638428, 6.305659704832657, 8.396539082026885]\n",
            "Cost function value is:  1.4895684945152354\n",
            "New value for theta(0) is:  [2.1362987502818434, 2.098340084735768]\n",
            "Iteration number is :  10\n",
            "Hypothesis function value is: [2.1362987502818434, 4.234638835017611, 6.33297891975338, 8.431319004489147]\n",
            "Cost function value is:  1.4689447407650815\n",
            "New value for theta(0) is:  [2.1484606615079884, 2.1053537005157885]\n"
          ],
          "name": "stdout"
        }
      ]
    },
    {
      "cell_type": "code",
      "metadata": {
        "id": "U-AzV7WStkgk",
        "colab_type": "code",
        "outputId": "cab83df3-7b78-4572-d89a-9c58672f8051",
        "colab": {
          "base_uri": "https://localhost:8080/",
          "height": 35
        }
      },
      "source": [
        "# Hypothesis function\n",
        "  h = []\n",
        "  for i in range(len(x)):\n",
        "    a = 4.69 + 1.20 * x[i]\n",
        "    h.append(a)\n",
        "\n",
        "  print(\"Hypothesis function value is:\", h)"
      ],
      "execution_count": 15,
      "outputs": [
        {
          "output_type": "stream",
          "text": [
            "Hypothesis function value is: [4.69, 5.890000000000001, 7.09, 8.29]\n"
          ],
          "name": "stdout"
        }
      ]
    },
    {
      "cell_type": "code",
      "metadata": {
        "id": "65gFhFd9voXE",
        "colab_type": "code",
        "outputId": "ca511c2c-0694-4f14-c327-81cbd8763738",
        "colab": {
          "base_uri": "https://localhost:8080/",
          "height": 1000
        }
      },
      "source": [
        "import matplotlib.pyplot as plt\n",
        "\n",
        "counter = 0\n",
        "for i in range(10) :\n",
        "  print(\"Iteration number is : \", counter+1)\n",
        "  # Hypothesis function\n",
        "  h = []\n",
        "  for i in range(len(x)):\n",
        "    a = theta[0] + theta[1] * x[i]\n",
        "    h.append(a)\n",
        "\n",
        "  print(\"Hypothesis function value is:\", h)\n",
        "\n",
        "  # cost function\n",
        "\n",
        "  error_sum = 0\n",
        "  m = len(x)\n",
        "  for i in range(m):\n",
        "    error_sum = error_sum + ( h[i] - y[i] ) ** 2\n",
        "    \n",
        "  j = ( 1/(2*m) ) * error_sum\n",
        "\n",
        "  print(\"Cost function value is: \", j)\n",
        "\n",
        "  # Gradient Descent\n",
        "\n",
        "  temp0 = 0\n",
        "  temp1 = 0\n",
        "  m = len(x)\n",
        "\n",
        "  for i in range(m):\n",
        "    temp0 = temp0 + ( h[i] - y[i] ) \n",
        "    temp1 = temp1 + ( h[i] - y[i] ) * x[i]\n",
        "\n",
        "  theta[0] = theta[0] - (0.01/m) * temp0\n",
        "  theta[1] = theta[1] - (0.01/m) * temp1\n",
        "\n",
        "  plt.plot(x,h, marker=\"o\")\n",
        "  plt.show()\n",
        "\n",
        "  print(\"New value for theta(0) is: \", theta )\n",
        "\n",
        "  counter = counter + 1\n",
        "\n"
      ],
      "execution_count": 16,
      "outputs": [
        {
          "output_type": "stream",
          "text": [
            "Iteration number is :  1\n",
            "Hypothesis function value is: [2.1484606615079884, 4.2538143620237765, 6.359168062539565, 8.464521763055354]\n",
            "Cost function value is:  1.449522440078958\n"
          ],
          "name": "stdout"
        },
        {
          "output_type": "display_data",
          "data": {
            "image/png": "[encoded data removed]",
            "text/plain": [
              "<Figure size 432x288 with 1 Axes>"
            ]
          },
          "metadata": {
            "tags": []
          }
        },
        {
          "output_type": "stream",
          "text": [
            "New value for theta(0) is:  [2.1603957493851715, 2.111939411075116]\n",
            "Iteration number is :  2\n",
            "Hypothesis function value is: [2.1603957493851715, 4.272335160460288, 6.3842745715354035, 8.49621398261052]\n",
            "Cost function value is:  1.4312056744421817\n"
          ],
          "name": "stdout"
        },
        {
          "output_type": "display_data",
          "data": {
            "image/png": "[encoded data removed]",
            "text/plain": [
              "<Figure size 432x288 with 1 Axes>"
            ]
          },
          "metadata": {
            "tags": []
          }
        },
        {
          "output_type": "stream",
          "text": [
            "New value for theta(0) is:  [2.1721127007251932, 2.1181155954467097]\n",
            "Iteration number is :  3\n",
            "Hypothesis function value is: [2.1721127007251932, 4.290228296171903, 6.408343891618612, 8.526459487065322]\n",
            "Cost function value is:  1.4139064009779583\n"
          ],
          "name": "stdout"
        },
        {
          "output_type": "display_data",
          "data": {
            "image/png": "[encoded data removed]",
            "text/plain": [
              "<Figure size 432x288 with 1 Axes>"
            ]
          },
          "metadata": {
            "tags": []
          }
        },
        {
          "output_type": "stream",
          "text": [
            "New value for theta(0) is:  [2.1836198397862407, 2.123899859095197]\n",
            "Iteration number is :  4\n",
            "Hypothesis function value is: [2.1836198397862407, 4.307519698881437, 6.431419557976635, 8.555319417071832]\n",
            "Cost function value is:  1.397543804044769\n"
          ],
          "name": "stdout"
        },
        {
          "output_type": "display_data",
          "data": {
            "image/png": "[encoded data removed]",
            "text/plain": [
              "<Figure size 432x288 with 1 Axes>"
            ]
          },
          "metadata": {
            "tags": []
          }
        },
        {
          "output_type": "stream",
          "text": [
            "New value for theta(0) is:  [2.1949251435019503, 2.1293090664300713]\n",
            "Iteration number is :  5\n",
            "Hypothesis function value is: [2.1949251435019503, 4.324234209932022, 6.453543276362093, 8.582852342792165]\n",
            "Cost function value is:  1.3820437006458697\n"
          ],
          "name": "stdout"
        },
        {
          "output_type": "display_data",
          "data": {
            "image/png": "[encoded data removed]",
            "text/plain": [
              "<Figure size 432x288 with 1 Axes>"
            ]
          },
          "metadata": {
            "tags": []
          }
        },
        {
          "output_type": "stream",
          "text": [
            "New value for theta(0) is:  [2.2060362560704796, 2.1343593719524896]\n",
            "Iteration number is :  6\n",
            "Hypothesis function value is: [2.2060362560704796, 4.34039562802297, 6.474754999975459, 8.609114371927948]\n",
            "Cost function value is:  1.3673379947641142\n"
          ],
          "name": "stdout"
        },
        {
          "output_type": "display_data",
          "data": {
            "image/png": "[encoded data removed]",
            "text/plain": [
              "<Figure size 432x288 with 1 Axes>"
            ]
          },
          "metadata": {
            "tags": []
          }
        },
        {
          "output_type": "stream",
          "text": [
            "New value for theta(0) is:  [2.2169605029304873, 2.1390662500930953]\n",
            "Iteration number is :  7\n",
            "Hypothesis function value is: [2.2169605029304873, 4.356026753023583, 6.495093003116677, 8.634159253209774]\n",
            "Cost function value is:  1.353364176596279\n"
          ],
          "name": "stdout"
        },
        {
          "output_type": "display_data",
          "data": {
            "image/png": "[encoded data removed]",
            "text/plain": [
              "<Figure size 432x288 with 1 Axes>"
            ]
          },
          "metadata": {
            "tags": []
          }
        },
        {
          "output_type": "stream",
          "text": [
            "New value for theta(0) is:  [2.227704904149786, 2.1434445237958797]\n",
            "Iteration number is :  8\n",
            "Hypothesis function value is: [2.227704904149786, 4.3711494279456655, 6.514593951741546, 8.658038475537424]\n",
            "Cost function value is:  1.3400648629923284\n"
          ],
          "name": "stdout"
        },
        {
          "output_type": "display_data",
          "data": {
            "image/png": "[encoded data removed]",
            "text/plain": [
              "<Figure size 432x288 with 1 Axes>"
            ]
          },
          "metadata": {
            "tags": []
          }
        },
        {
          "output_type": "stream",
          "text": [
            "New value for theta(0) is:  [2.23827618725135, 2.147508391900777]\n",
            "Iteration number is :  9\n",
            "Hypothesis function value is: [2.23827618725135, 4.385784579152126, 6.533292971052903, 8.68080136295368]\n",
            "Cost function value is:  1.327387375709085\n"
          ],
          "name": "stdout"
        },
        {
          "output_type": "display_data",
          "data": {
            "image/png": "[encoded data removed]",
            "text/plain": [
              "<Figure size 432x288 with 1 Axes>"
            ]
          },
          "metadata": {
            "tags": []
          }
        },
        {
          "output_type": "stream",
          "text": [
            "New value for theta(0) is:  [2.248680799500325, 2.1512714553754795]\n",
            "Iteration number is :  10\n",
            "Hypothesis function value is: [2.248680799500325, 4.399952254875805, 6.551223710251284, 8.702495165626765]\n",
            "Cost function value is:  1.315283354366729\n"
          ],
          "name": "stdout"
        },
        {
          "output_type": "display_data",
          "data": {
            "image/png": "[encoded data removed]",
            "text/plain": [
              "<Figure size 432x288 with 1 Axes>"
            ]
          },
          "metadata": {
            "tags": []
          }
        },
        {
          "output_type": "stream",
          "text": [
            "New value for theta(0) is:  [2.2589249196746892, 2.154746742444833]\n"
          ],
          "name": "stdout"
        }
      ]
    },
    {
      "cell_type": "code",
      "metadata": {
        "id": "Qq_CR7Nax6fo",
        "colab_type": "code",
        "colab": {}
      },
      "source": [
        ""
      ],
      "execution_count": 0,
      "outputs": []
    }
  ]
}